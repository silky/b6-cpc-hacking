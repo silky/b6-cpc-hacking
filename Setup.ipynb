{
 "cells": [
  {
   "cell_type": "code",
   "execution_count": 11,
   "id": "e6948043-13b3-44fa-99cf-0a45a8872142",
   "metadata": {},
   "outputs": [],
   "source": [
    "import diagonal_b6 as b6\n",
    "import json\n",
    "\n",
    "w = b6.connect_insecure(\"0.0.0.0:8002\")"
   ]
  },
  {
   "cell_type": "markdown",
   "id": "05115f18-fd29-43ea-a328-ca5f726e6a5f",
   "metadata": {},
   "source": [
    "### Run b6\n",
    "\n",
    "```\n",
    "run-b6 --world ../../data/indexes/edinburgh-241113.connected.index\n",
    "```"
   ]
  },
  {
   "cell_type": "markdown",
   "id": "0fc05ae0-7f03-428e-a38d-e5f8566aab85",
   "metadata": {},
   "source": [
    "### Prep data"
   ]
  },
  {
   "cell_type": "code",
   "execution_count": 12,
   "id": "eee7e87b-f8a0-4332-aa26-f5786ba534ac",
   "metadata": {},
   "outputs": [],
   "source": [
    "with open(\"cpc_demo.geojson\", \"r\") as f:\n",
    "    geojson = json.load(f)\n",
    "\n",
    "for f in geojson[\"features\"]:\n",
    "    f[\"properties\"][\"#potential_green\"] = \"yes\"\n",
    "    f[\"properties\"][\"id\"] = str(f[\"properties\"][\"id\"])\n",
    "    \n",
    "    if f[\"properties\"][\"#type\"]== \"wide corner\":\n",
    "        f[\"properties\"][\"b6:colour\"] = \"#FF8465\"\n",
    "        \n",
    "    if f[\"properties\"][\"#type\"]==\"road carriageway fragment\":\n",
    "        f[\"properties\"][\"b6:colour\"] = \"#f40ea8\"\n",
    "\n",
    "    f[\"properties\"][\"#building\"] = \"yes\""
   ]
  },
  {
   "cell_type": "markdown",
   "id": "5d811b2b-10e9-4451-98eb-d888a3261351",
   "metadata": {},
   "source": [
    "### Import and run"
   ]
  },
  {
   "cell_type": "code",
   "execution_count": 13,
   "id": "048986c2-0522-406a-aa6f-5f43e69c7195",
   "metadata": {},
   "outputs": [
    {
     "name": "stdout",
     "output_type": "stream",
     "text": [
      "http://localhost:8001/?r=/collection/diagonal.works/cpc/500\n"
     ]
    }
   ],
   "source": [
    "name = \"diagonal.works/cpc\"\n",
    "\n",
    "castle        = b6.osm_node_id(26005891)\n",
    "root          = b6.FeatureID(b6.FEATURE_TYPE_COLLECTION, name, 500)\n",
    "collection_id = b6.FeatureID(b6.FEATURE_TYPE_COLLECTION, name, 501)\n",
    "\n",
    "add_features   = b6.import_geojson(b6.parse_geojson(json.dumps(geojson)), name)\n",
    "\n",
    "# TODO: Bug; why does this need to be ran here?\n",
    "w(add_features)\n",
    "\n",
    "add_collection = b6.add_collection(collection_id, {}, b6.find(b6.keyed(\"#potential_green\")))\n",
    "\n",
    "add_root = b6.add_collection(root, {}, b6.collection(\n",
    "    b6.pair(\"centroid\", b6.ll(55.939231, -3.208273)),\n",
    "    b6.pair(\"docked\", collection_id),\n",
    "))\n",
    "\n",
    "changes = b6.merge_changes([ \n",
    "    add_root, \n",
    "    add_features,\n",
    "    add_collection,\n",
    "])\n",
    "\n",
    "w(b6.add_world_with_change(root, changes))\n",
    "\n",
    "print(f\"http://localhost:8001/?r={root}\")"
   ]
  },
  {
   "cell_type": "code",
   "execution_count": null,
   "id": "baf4453f-770f-4f0b-a055-8be3b22a0551",
   "metadata": {},
   "outputs": [],
   "source": []
  }
 ],
 "metadata": {
  "kernelspec": {
   "display_name": "Python 3 (ipykernel)",
   "language": "python",
   "name": "python3"
  },
  "language_info": {
   "codemirror_mode": {
    "name": "ipython",
    "version": 3
   },
   "file_extension": ".py",
   "mimetype": "text/x-python",
   "name": "python",
   "nbconvert_exporter": "python",
   "pygments_lexer": "ipython3",
   "version": "3.12.7"
  }
 },
 "nbformat": 4,
 "nbformat_minor": 5
}
